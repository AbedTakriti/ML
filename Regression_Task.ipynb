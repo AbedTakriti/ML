{
  "nbformat": 4,
  "nbformat_minor": 0,
  "metadata": {
    "colab": {
      "provenance": [],
      "collapsed_sections": []
    },
    "kernelspec": {
      "name": "python3",
      "display_name": "Python 3"
    },
    "language_info": {
      "name": "python"
    }
  },
  "cells": [
    {
      "cell_type": "code",
      "source": [
        "! pip install https://github.com/pandas-profiling/pandas-profiling/archive/master.zip "
      ],
      "metadata": {
        "id": "KgBN-TJBHpcU"
      },
      "execution_count": null,
      "outputs": []
    },
    {
      "cell_type": "code",
      "source": [
        "! pip install --upgrade category_encoders"
      ],
      "metadata": {
        "colab": {
          "base_uri": "https://localhost:8080/"
        },
        "id": "pP1Gem1HMKxT",
        "outputId": "b8a967ad-0346-4c25-e7e0-8b066c6d1937"
      },
      "execution_count": 1,
      "outputs": [
        {
          "output_type": "stream",
          "name": "stdout",
          "text": [
            "Looking in indexes: https://pypi.org/simple, https://us-python.pkg.dev/colab-wheels/public/simple/\n",
            "Requirement already satisfied: category_encoders in /usr/local/lib/python3.7/dist-packages (2.5.0)\n",
            "Requirement already satisfied: numpy>=1.14.0 in /usr/local/lib/python3.7/dist-packages (from category_encoders) (1.21.6)\n",
            "Requirement already satisfied: scikit-learn>=0.20.0 in /usr/local/lib/python3.7/dist-packages (from category_encoders) (1.0.2)\n",
            "Requirement already satisfied: scipy>=1.0.0 in /usr/local/lib/python3.7/dist-packages (from category_encoders) (1.7.3)\n",
            "Requirement already satisfied: pandas>=1.0.5 in /usr/local/lib/python3.7/dist-packages (from category_encoders) (1.3.5)\n",
            "Requirement already satisfied: statsmodels>=0.9.0 in /usr/local/lib/python3.7/dist-packages (from category_encoders) (0.13.2)\n",
            "Requirement already satisfied: patsy>=0.5.1 in /usr/local/lib/python3.7/dist-packages (from category_encoders) (0.5.2)\n",
            "Requirement already satisfied: python-dateutil>=2.7.3 in /usr/local/lib/python3.7/dist-packages (from pandas>=1.0.5->category_encoders) (2.8.2)\n",
            "Requirement already satisfied: pytz>=2017.3 in /usr/local/lib/python3.7/dist-packages (from pandas>=1.0.5->category_encoders) (2022.2.1)\n",
            "Requirement already satisfied: six in /usr/local/lib/python3.7/dist-packages (from patsy>=0.5.1->category_encoders) (1.15.0)\n",
            "Requirement already satisfied: joblib>=0.11 in /usr/local/lib/python3.7/dist-packages (from scikit-learn>=0.20.0->category_encoders) (1.2.0)\n",
            "Requirement already satisfied: threadpoolctl>=2.0.0 in /usr/local/lib/python3.7/dist-packages (from scikit-learn>=0.20.0->category_encoders) (3.1.0)\n",
            "Requirement already satisfied: packaging>=21.3 in /usr/local/lib/python3.7/dist-packages (from statsmodels>=0.9.0->category_encoders) (21.3)\n",
            "Requirement already satisfied: pyparsing!=3.0.5,>=2.0.2 in /usr/local/lib/python3.7/dist-packages (from packaging>=21.3->statsmodels>=0.9.0->category_encoders) (3.0.9)\n"
          ]
        }
      ]
    },
    {
      "cell_type": "code",
      "execution_count": 48,
      "metadata": {
        "id": "5JwJZkLVAOGX"
      },
      "outputs": [],
      "source": [
        "#Importing main packages and path to the data set in  my Google drive\n",
        "\n",
        "import pandas as pd\n",
        "import pandas_profiling as pf\n",
        "import numpy as np\n",
        "import matplotlib.pyplot as plt\n",
        "%matplotlib inline\n",
        "\n",
        "import sklearn\n",
        "from sklearn.preprocessing import MinMaxScaler\n",
        "from sklearn.model_selection import cross_val_score\n",
        "path_train='/content/drive/MyDrive/Master/Machine Learning/Assignment1/Regression Bit_rate/bitrate_train.csv'\n",
        "path_test='/content/drive/MyDrive/Master/Machine Learning/Assignment1/Regression Bit_rate/bitrate_test.csv'\n",
        "\n",
        "train_df=pd.read_csv(path_train, low_memory=False)\n",
        "test_df=pd.read_csv(path_test, low_memory=False)\n",
        "\n",
        "#Splitting data into training, testing\n",
        "\n",
        "\n",
        "x_train=train_df.drop(['target'],axis=1)\n",
        "y_train=train_df['target']\n",
        "\n",
        "x_test=test_df.drop(['target'],axis=1)\n",
        "y_test=test_df['target']\n",
        "\n",
        "#pf.ProfileReport(x_train)\n"
      ]
    },
    {
      "cell_type": "code",
      "source": [
        "###Preprocessing:\n",
        "\n",
        "##1-Feature Selection:\n",
        "\n",
        "#According to Pandas profiling. we have two features that corrleate heavily with third one, so we drop them : dropped_frames_std, dropped_frames_max\n",
        "\n",
        "x_train_f = x_train.drop(['dropped_frames_max','dropped_frames_std'],axis=1)\n",
        "x_test_f = x_test.drop(['dropped_frames_max','dropped_frames_std'],axis=1)\n",
        "\n"
      ],
      "metadata": {
        "id": "YHjpy5zKdZ9G"
      },
      "execution_count": 49,
      "outputs": []
    },
    {
      "cell_type": "code",
      "source": [
        "\n",
        "\n",
        "# imputing missing values\n",
        "\"\"\"Panda Profiling report shows no missing data / NANs. Hence, no Imputing is required\"\"\"\n",
        "\n",
        "\n",
        "##Scaling the train and test data Using MinMax#\n",
        "\n",
        "scaler = MinMaxScaler()\n",
        "scaler.fit(x_train_f)\n",
        "x_train_f_s = pd.DataFrame(scaler.transform(x_train_f), columns=x_train_f.columns)\n",
        "x_test_f_s = pd.DataFrame(scaler.transform(x_test_f), columns=x_test_f.columns)\n",
        "\n",
        "\n",
        "#Splitting train data into two parts : training and validating\n",
        "from sklearn.model_selection import train_test_split\n",
        "\n",
        "x_train_val, x_test_val, y_train_val, y_val = train_test_split(x_train_f_s, y_train, test_size=0.2, random_state=123)\n",
        "\n"
      ],
      "metadata": {
        "id": "4LoKJSzLoByC"
      },
      "execution_count": 50,
      "outputs": []
    },
    {
      "cell_type": "code",
      "source": [
        "#Method 1 : Linear Regression for one predictor, I choosed the fps_mean as it has less zero values and less skewed than RTT according to pandas profiling\n",
        "from sklearn.linear_model import LinearRegression\n",
        "from sklearn import metrics\n",
        "\n",
        "##assigning train set and test to one feature\n",
        "x_train_one_predictor = x_train_f_s['fps_mean']\n",
        "x_test_one_predictor = x_test_f_s['fps_mean']\n",
        "\n",
        "\n",
        "regressor = LinearRegression()\n",
        "clf=regressor.fit(x_train_one_predictor[:,np.newaxis], y_train)\n",
        "print(f\"Model intercept : {regressor.intercept_}\")\n",
        "print(f\"Model coefficients : {regressor.coef_}\")\n",
        "\n",
        "#print(scores)\n",
        "y_pred_one_predictor = regressor.predict(x_test_one_predictor[:,np.newaxis])\n",
        "\n",
        "\n"
      ],
      "metadata": {
        "colab": {
          "base_uri": "https://localhost:8080/"
        },
        "id": "dRonVMjywnVy",
        "outputId": "6fc206c2-4be0-4b4d-fab6-a53c0685fe5d"
      },
      "execution_count": 51,
      "outputs": [
        {
          "output_type": "stream",
          "name": "stdout",
          "text": [
            "Model intercept : 4723.253086890296\n",
            "Model coefficients : [12860.62961311]\n"
          ]
        },
        {
          "output_type": "stream",
          "name": "stderr",
          "text": [
            "/usr/local/lib/python3.7/dist-packages/ipykernel_launcher.py:11: FutureWarning: Support for multi-dimensional indexing (e.g. `obj[:, None]`) is deprecated and will be removed in a future version.  Convert to a numpy array before indexing instead.\n",
            "  # This is added back by InteractiveShellApp.init_path()\n",
            "/usr/local/lib/python3.7/dist-packages/ipykernel_launcher.py:16: FutureWarning: Support for multi-dimensional indexing (e.g. `obj[:, None]`) is deprecated and will be removed in a future version.  Convert to a numpy array before indexing instead.\n",
            "  app.launch_new_instance()\n"
          ]
        }
      ]
    },
    {
      "cell_type": "code",
      "source": [
        "train_df.plot(x='fps_mean', y='target', style='o')\n",
        "plt.title('fps vs Bitrate')\n",
        "plt.xlabel('mean Frame per second ')\n",
        "plt.ylabel('Bit Rate')\n",
        "plt.show()\n",
        "\n",
        "##we see that the maximum value for sufficient bitrate is at 60fps, any further value the bitrate drops"
      ],
      "metadata": {
        "colab": {
          "base_uri": "https://localhost:8080/",
          "height": 295
        },
        "id": "jfmm7suwZJq-",
        "outputId": "291e5d52-d9ad-4494-a290-e1e150111e45"
      },
      "execution_count": 45,
      "outputs": [
        {
          "output_type": "display_data",
          "data": {
            "text/plain": [
              "<Figure size 432x288 with 1 Axes>"
            ],
            "image/png": "[encoded data removed]"
          },
          "metadata": {
            "needs_background": "light"
          }
        }
      ]
    },
    {
      "cell_type": "code",
      "source": [
        "#Applying PCA\n",
        "from sklearn.decomposition import PCA\n",
        "\n",
        "dim_reducer = PCA(n_components=2)\n",
        "x_train_reduced = dim_reducer.fit_transform(x_train)\n",
        "\n",
        "# Write code to plot the reduced dataset in a scatter plot.\n",
        "plt.scatter(x_train_reduced[:, 0], x_train_reduced[:, 1], marker='.')\n",
        "plt.show()"
      ],
      "metadata": {
        "colab": {
          "base_uri": "https://localhost:8080/",
          "height": 265
        },
        "id": "D6jngj54eZif",
        "outputId": "77313d12-2ae6-4523-b345-8de3f7a51a0c"
      },
      "execution_count": 46,
      "outputs": [
        {
          "output_type": "display_data",
          "data": {
            "text/plain": [
              "<Figure size 432x288 with 1 Axes>"
            ],
            "image/png": "[encoded data removed]"
          },
          "metadata": {
            "needs_background": "light"
          }
        }
      ]
    },
    {
      "cell_type": "code",
      "source": [
        "print('Mean Absolute Error:', metrics.mean_absolute_error(y_test, y_pred_one_predictor))\n",
        "print('Mean Squared Error:', metrics.mean_squared_error(y_test, y_pred_one_predictor))\n",
        "print('Root Mean Squared Error:', np.sqrt(metrics.mean_squared_error(y_test, y_pred_one_predictor)))\n",
        "print('R2:', metrics.r2_score(y_test, y_pred_one_predictor))\n",
        "eval1 = pd.DataFrame({'Actual': y_test, 'Predicted': y_pred_one_predictor})\n",
        "display(eval1)\n"
      ],
      "metadata": {
        "colab": {
          "base_uri": "https://localhost:8080/",
          "height": 495
        },
        "id": "WKcVc5I0Tz7s",
        "outputId": "29f21657-3e81-4444-814d-3a7b06602f1d"
      },
      "execution_count": 52,
      "outputs": [
        {
          "output_type": "stream",
          "name": "stdout",
          "text": [
            "Mean Absolute Error: 4553.654342752259\n",
            "Mean Squared Error: 34349848.81734121\n",
            "Root Mean Squared Error: 5860.874407231502\n",
            "R2: 0.03675829642982331\n"
          ]
        },
        {
          "output_type": "display_data",
          "data": {
            "text/plain": [
              "        Actual    Predicted\n",
              "0        718.0  6933.326742\n",
              "1        670.9  6944.432640\n",
              "2        789.8  6944.432640\n",
              "3        723.2  6933.326742\n",
              "4        693.6  6944.432640\n",
              "...        ...          ...\n",
              "228140  5337.0  6278.078774\n",
              "228141  5337.0  6278.078774\n",
              "228142  5337.0  6278.078774\n",
              "228143  5337.0  6278.078774\n",
              "228144  5337.0  6278.078774\n",
              "\n",
              "[228145 rows x 2 columns]"
            ],
            "text/html": [
              "\n",
              "  <div id=\"df-b703f208-af25-4ddd-9385-b7918154d0e5\">\n",
              "    <div class=\"colab-df-container\">\n",
              "      <div>\n",
              "<style scoped>\n",
              "    .dataframe tbody tr th:only-of-type {\n",
              "        vertical-align: middle;\n",
              "    }\n",
              "\n",
              "    .dataframe tbody tr th {\n",
              "        vertical-align: top;\n",
              "    }\n",
              "\n",
              "    .dataframe thead th {\n",
              "        text-align: right;\n",
              "    }\n",
              "</style>\n",
              "<table border=\"1\" class=\"dataframe\">\n",
              "  <thead>\n",
              "    <tr style=\"text-align: right;\">\n",
              "      <th></th>\n",
              "      <th>Actual</th>\n",
              "      <th>Predicted</th>\n",
              "    </tr>\n",
              "  </thead>\n",
              "  <tbody>\n",
              "    <tr>\n",
              "      <th>0</th>\n",
              "      <td>718.0</td>\n",
              "      <td>6933.326742</td>\n",
              "    </tr>\n",
              "    <tr>\n",
              "      <th>1</th>\n",
              "      <td>670.9</td>\n",
              "      <td>6944.432640</td>\n",
              "    </tr>\n",
              "    <tr>\n",
              "      <th>2</th>\n",
              "      <td>789.8</td>\n",
              "      <td>6944.432640</td>\n",
              "    </tr>\n",
              "    <tr>\n",
              "      <th>3</th>\n",
              "      <td>723.2</td>\n",
              "      <td>6933.326742</td>\n",
              "    </tr>\n",
              "    <tr>\n",
              "      <th>4</th>\n",
              "      <td>693.6</td>\n",
              "      <td>6944.432640</td>\n",
              "    </tr>\n",
              "    <tr>\n",
              "      <th>...</th>\n",
              "      <td>...</td>\n",
              "      <td>...</td>\n",
              "    </tr>\n",
              "    <tr>\n",
              "      <th>228140</th>\n",
              "      <td>5337.0</td>\n",
              "      <td>6278.078774</td>\n",
              "    </tr>\n",
              "    <tr>\n",
              "      <th>228141</th>\n",
              "      <td>5337.0</td>\n",
              "      <td>6278.078774</td>\n",
              "    </tr>\n",
              "    <tr>\n",
              "      <th>228142</th>\n",
              "      <td>5337.0</td>\n",
              "      <td>6278.078774</td>\n",
              "    </tr>\n",
              "    <tr>\n",
              "      <th>228143</th>\n",
              "      <td>5337.0</td>\n",
              "      <td>6278.078774</td>\n",
              "    </tr>\n",
              "    <tr>\n",
              "      <th>228144</th>\n",
              "      <td>5337.0</td>\n",
              "      <td>6278.078774</td>\n",
              "    </tr>\n",
              "  </tbody>\n",
              "</table>\n",
              "<p>228145 rows × 2 columns</p>\n",
              "</div>\n",
              "      <button class=\"colab-df-convert\" onclick=\"convertToInteractive('df-b703f208-af25-4ddd-9385-b7918154d0e5')\"\n",
              "              title=\"Convert this dataframe to an interactive table.\"\n",
              "              style=\"display:none;\">\n",
              "        \n",
              "  <svg xmlns=\"http://www.w3.org/2000/svg\" height=\"24px\"viewBox=\"0 0 24 24\"\n",
              "       width=\"24px\">\n",
              "    <path d=\"M0 0h24v24H0V0z\" fill=\"none\"/>\n",
              "    <path d=\"M18.56 5.44l.94 2.06.94-2.06 2.06-.94-2.06-.94-.94-2.06-.94 2.06-2.06.94zm-11 1L8.5 8.5l.94-2.06 2.06-.94-2.06-.94L8.5 2.5l-.94 2.06-2.06.94zm10 10l.94 2.06.94-2.06 2.06-.94-2.06-.94-.94-2.06-.94 2.06-2.06.94z\"/><path d=\"M17.41 7.96l-1.37-1.37c-.4-.4-.92-.59-1.43-.59-.52 0-1.04.2-1.43.59L10.3 9.45l-7.72 7.72c-.78.78-.78 2.05 0 2.83L4 21.41c.39.39.9.59 1.41.59.51 0 1.02-.2 1.41-.59l7.78-7.78 2.81-2.81c.8-.78.8-2.07 0-2.86zM5.41 20L4 18.59l7.72-7.72 1.47 1.35L5.41 20z\"/>\n",
              "  </svg>\n",
              "      </button>\n",
              "      \n",
              "  <style>\n",
              "    .colab-df-container {\n",
              "      display:flex;\n",
              "      flex-wrap:wrap;\n",
              "      gap: 12px;\n",
              "    }\n",
              "\n",
              "    .colab-df-convert {\n",
              "      background-color: #E8F0FE;\n",
              "      border: none;\n",
              "      border-radius: 50%;\n",
              "      cursor: pointer;\n",
              "      display: none;\n",
              "      fill: #1967D2;\n",
              "      height: 32px;\n",
              "      padding: 0 0 0 0;\n",
              "      width: 32px;\n",
              "    }\n",
              "\n",
              "    .colab-df-convert:hover {\n",
              "      background-color: #E2EBFA;\n",
              "      box-shadow: 0px 1px 2px rgba(60, 64, 67, 0.3), 0px 1px 3px 1px rgba(60, 64, 67, 0.15);\n",
              "      fill: #174EA6;\n",
              "    }\n",
              "\n",
              "    [theme=dark] .colab-df-convert {\n",
              "      background-color: #3B4455;\n",
              "      fill: #D2E3FC;\n",
              "    }\n",
              "\n",
              "    [theme=dark] .colab-df-convert:hover {\n",
              "      background-color: #434B5C;\n",
              "      box-shadow: 0px 1px 3px 1px rgba(0, 0, 0, 0.15);\n",
              "      filter: drop-shadow(0px 1px 2px rgba(0, 0, 0, 0.3));\n",
              "      fill: #FFFFFF;\n",
              "    }\n",
              "  </style>\n",
              "\n",
              "      <script>\n",
              "        const buttonEl =\n",
              "          document.querySelector('#df-b703f208-af25-4ddd-9385-b7918154d0e5 button.colab-df-convert');\n",
              "        buttonEl.style.display =\n",
              "          google.colab.kernel.accessAllowed ? 'block' : 'none';\n",
              "\n",
              "        async function convertToInteractive(key) {\n",
              "          const element = document.querySelector('#df-b703f208-af25-4ddd-9385-b7918154d0e5');\n",
              "          const dataTable =\n",
              "            await google.colab.kernel.invokeFunction('convertToInteractive',\n",
              "                                                     [key], {});\n",
              "          if (!dataTable) return;\n",
              "\n",
              "          const docLinkHtml = 'Like what you see? Visit the ' +\n",
              "            '<a target=\"_blank\" href=https://colab.research.google.com/notebooks/data_table.ipynb>data table notebook</a>'\n",
              "            + ' to learn more about interactive tables.';\n",
              "          element.innerHTML = '';\n",
              "          dataTable['output_type'] = 'display_data';\n",
              "          await google.colab.output.renderOutput(dataTable, element);\n",
              "          const docLink = document.createElement('div');\n",
              "          docLink.innerHTML = docLinkHtml;\n",
              "          element.appendChild(docLink);\n",
              "        }\n",
              "      </script>\n",
              "    </div>\n",
              "  </div>\n",
              "  "
            ]
          },
          "metadata": {}
        }
      ]
    },
    {
      "cell_type": "code",
      "source": [
        "\n",
        "#Method 2 : Linear Regression for multi predictors and feautre selection\n",
        "from sklearn.linear_model import LinearRegression\n",
        "from sklearn import metrics\n",
        "regressor = LinearRegression()\n",
        "regressor.fit(x_train_f_s, y_train)\n",
        "\n",
        "scores = cross_val_score(regressor,x_train_f_s, y_train,cv=3, scoring=\"r2\")\n",
        "y_pred = regressor.predict(x_test_f_s)\n",
        "display(scores)\n",
        "print(f\"Model intercept : {regressor.intercept_}\")\n",
        "print(f\"Model coefficients : {regressor.coef_}\")\n",
        "\n",
        "\n",
        "\n"
      ],
      "metadata": {
        "colab": {
          "base_uri": "https://localhost:8080/",
          "height": 35
        },
        "id": "NibKyqghfQOB",
        "outputId": "e314467a-e714-4a88-f6f3-8e693456cec6"
      },
      "execution_count": 41,
      "outputs": [
        {
          "output_type": "display_data",
          "data": {
            "text/plain": [
              "array([0.89077469, 0.90650882, 0.87724007])"
            ]
          },
          "metadata": {}
        }
      ]
    },
    {
      "cell_type": "code",
      "source": [
        "print('Mean Absolute Error:', metrics.mean_absolute_error(y_test, y_pred))\n",
        "print('Mean Squared Error:', metrics.mean_squared_error(y_test, y_pred))\n",
        "print('Root Mean Squared Error:', np.sqrt(metrics.mean_squared_error(y_test, y_pred)))\n",
        "print('R2:', metrics.r2_score(y_test, y_pred))\n",
        "eval2 = pd.DataFrame({'Actual': y_test, 'Predicted': y_pred})\n",
        "display(eval2)\n",
        "\n"
      ],
      "metadata": {
        "colab": {
          "base_uri": "https://localhost:8080/",
          "height": 495
        },
        "id": "dKtUTmsqTuKp",
        "outputId": "e57b1d52-2244-40b0-9138-b2b4c8575443"
      },
      "execution_count": 39,
      "outputs": [
        {
          "output_type": "stream",
          "name": "stdout",
          "text": [
            "Mean Absolute Error: 1076.8491685047309\n",
            "Mean Squared Error: 3798632.101748698\n",
            "Root Mean Squared Error: 1949.0079788827695\n",
            "R2: 0.8934783999667106\n"
          ]
        },
        {
          "output_type": "display_data",
          "data": {
            "text/plain": [
              "        Actual    Predicted\n",
              "0        718.0   998.471303\n",
              "1        670.9  1031.630150\n",
              "2        789.8   985.382326\n",
              "3        723.2  1120.458517\n",
              "4        693.6  1036.300787\n",
              "...        ...          ...\n",
              "228140  5337.0  5315.576976\n",
              "228141  5337.0  5315.576976\n",
              "228142  5337.0  5315.576976\n",
              "228143  5337.0  5315.576976\n",
              "228144  5337.0  5315.576976\n",
              "\n",
              "[228145 rows x 2 columns]"
            ],
            "text/html": [
              "\n",
              "  <div id=\"df-982a20ad-eeb4-4e33-bf87-34fc97442b02\">\n",
              "    <div class=\"colab-df-container\">\n",
              "      <div>\n",
              "<style scoped>\n",
              "    .dataframe tbody tr th:only-of-type {\n",
              "        vertical-align: middle;\n",
              "    }\n",
              "\n",
              "    .dataframe tbody tr th {\n",
              "        vertical-align: top;\n",
              "    }\n",
              "\n",
              "    .dataframe thead th {\n",
              "        text-align: right;\n",
              "    }\n",
              "</style>\n",
              "<table border=\"1\" class=\"dataframe\">\n",
              "  <thead>\n",
              "    <tr style=\"text-align: right;\">\n",
              "      <th></th>\n",
              "      <th>Actual</th>\n",
              "      <th>Predicted</th>\n",
              "    </tr>\n",
              "  </thead>\n",
              "  <tbody>\n",
              "    <tr>\n",
              "      <th>0</th>\n",
              "      <td>718.0</td>\n",
              "      <td>998.471303</td>\n",
              "    </tr>\n",
              "    <tr>\n",
              "      <th>1</th>\n",
              "      <td>670.9</td>\n",
              "      <td>1031.630150</td>\n",
              "    </tr>\n",
              "    <tr>\n",
              "      <th>2</th>\n",
              "      <td>789.8</td>\n",
              "      <td>985.382326</td>\n",
              "    </tr>\n",
              "    <tr>\n",
              "      <th>3</th>\n",
              "      <td>723.2</td>\n",
              "      <td>1120.458517</td>\n",
              "    </tr>\n",
              "    <tr>\n",
              "      <th>4</th>\n",
              "      <td>693.6</td>\n",
              "      <td>1036.300787</td>\n",
              "    </tr>\n",
              "    <tr>\n",
              "      <th>...</th>\n",
              "      <td>...</td>\n",
              "      <td>...</td>\n",
              "    </tr>\n",
              "    <tr>\n",
              "      <th>228140</th>\n",
              "      <td>5337.0</td>\n",
              "      <td>5315.576976</td>\n",
              "    </tr>\n",
              "    <tr>\n",
              "      <th>228141</th>\n",
              "      <td>5337.0</td>\n",
              "      <td>5315.576976</td>\n",
              "    </tr>\n",
              "    <tr>\n",
              "      <th>228142</th>\n",
              "      <td>5337.0</td>\n",
              "      <td>5315.576976</td>\n",
              "    </tr>\n",
              "    <tr>\n",
              "      <th>228143</th>\n",
              "      <td>5337.0</td>\n",
              "      <td>5315.576976</td>\n",
              "    </tr>\n",
              "    <tr>\n",
              "      <th>228144</th>\n",
              "      <td>5337.0</td>\n",
              "      <td>5315.576976</td>\n",
              "    </tr>\n",
              "  </tbody>\n",
              "</table>\n",
              "<p>228145 rows × 2 columns</p>\n",
              "</div>\n",
              "      <button class=\"colab-df-convert\" onclick=\"convertToInteractive('df-982a20ad-eeb4-4e33-bf87-34fc97442b02')\"\n",
              "              title=\"Convert this dataframe to an interactive table.\"\n",
              "              style=\"display:none;\">\n",
              "        \n",
              "  <svg xmlns=\"http://www.w3.org/2000/svg\" height=\"24px\"viewBox=\"0 0 24 24\"\n",
              "       width=\"24px\">\n",
              "    <path d=\"M0 0h24v24H0V0z\" fill=\"none\"/>\n",
              "    <path d=\"M18.56 5.44l.94 2.06.94-2.06 2.06-.94-2.06-.94-.94-2.06-.94 2.06-2.06.94zm-11 1L8.5 8.5l.94-2.06 2.06-.94-2.06-.94L8.5 2.5l-.94 2.06-2.06.94zm10 10l.94 2.06.94-2.06 2.06-.94-2.06-.94-.94-2.06-.94 2.06-2.06.94z\"/><path d=\"M17.41 7.96l-1.37-1.37c-.4-.4-.92-.59-1.43-.59-.52 0-1.04.2-1.43.59L10.3 9.45l-7.72 7.72c-.78.78-.78 2.05 0 2.83L4 21.41c.39.39.9.59 1.41.59.51 0 1.02-.2 1.41-.59l7.78-7.78 2.81-2.81c.8-.78.8-2.07 0-2.86zM5.41 20L4 18.59l7.72-7.72 1.47 1.35L5.41 20z\"/>\n",
              "  </svg>\n",
              "      </button>\n",
              "      \n",
              "  <style>\n",
              "    .colab-df-container {\n",
              "      display:flex;\n",
              "      flex-wrap:wrap;\n",
              "      gap: 12px;\n",
              "    }\n",
              "\n",
              "    .colab-df-convert {\n",
              "      background-color: #E8F0FE;\n",
              "      border: none;\n",
              "      border-radius: 50%;\n",
              "      cursor: pointer;\n",
              "      display: none;\n",
              "      fill: #1967D2;\n",
              "      height: 32px;\n",
              "      padding: 0 0 0 0;\n",
              "      width: 32px;\n",
              "    }\n",
              "\n",
              "    .colab-df-convert:hover {\n",
              "      background-color: #E2EBFA;\n",
              "      box-shadow: 0px 1px 2px rgba(60, 64, 67, 0.3), 0px 1px 3px 1px rgba(60, 64, 67, 0.15);\n",
              "      fill: #174EA6;\n",
              "    }\n",
              "\n",
              "    [theme=dark] .colab-df-convert {\n",
              "      background-color: #3B4455;\n",
              "      fill: #D2E3FC;\n",
              "    }\n",
              "\n",
              "    [theme=dark] .colab-df-convert:hover {\n",
              "      background-color: #434B5C;\n",
              "      box-shadow: 0px 1px 3px 1px rgba(0, 0, 0, 0.15);\n",
              "      filter: drop-shadow(0px 1px 2px rgba(0, 0, 0, 0.3));\n",
              "      fill: #FFFFFF;\n",
              "    }\n",
              "  </style>\n",
              "\n",
              "      <script>\n",
              "        const buttonEl =\n",
              "          document.querySelector('#df-982a20ad-eeb4-4e33-bf87-34fc97442b02 button.colab-df-convert');\n",
              "        buttonEl.style.display =\n",
              "          google.colab.kernel.accessAllowed ? 'block' : 'none';\n",
              "\n",
              "        async function convertToInteractive(key) {\n",
              "          const element = document.querySelector('#df-982a20ad-eeb4-4e33-bf87-34fc97442b02');\n",
              "          const dataTable =\n",
              "            await google.colab.kernel.invokeFunction('convertToInteractive',\n",
              "                                                     [key], {});\n",
              "          if (!dataTable) return;\n",
              "\n",
              "          const docLinkHtml = 'Like what you see? Visit the ' +\n",
              "            '<a target=\"_blank\" href=https://colab.research.google.com/notebooks/data_table.ipynb>data table notebook</a>'\n",
              "            + ' to learn more about interactive tables.';\n",
              "          element.innerHTML = '';\n",
              "          dataTable['output_type'] = 'display_data';\n",
              "          await google.colab.output.renderOutput(dataTable, element);\n",
              "          const docLink = document.createElement('div');\n",
              "          docLink.innerHTML = docLinkHtml;\n",
              "          element.appendChild(docLink);\n",
              "        }\n",
              "      </script>\n",
              "    </div>\n",
              "  </div>\n",
              "  "
            ]
          },
          "metadata": {}
        }
      ]
    },
    {
      "cell_type": "code",
      "source": [
        "##Method 3: Polynomial Regression with Lasso Regualarization\n",
        "\n",
        "##searching for optimal alpha:\n",
        "\n",
        "from sklearn.linear_model import Lasso, Ridge\n",
        "from sklearn.metrics import mean_squared_error\n",
        "alphas = [2.2, 2, 1.5, 1.3, 1.2, 1.1, 1, 0.3, 0.1]\n",
        "losses = []\n",
        "for alpha in alphas:\n",
        "    lasso = Lasso(alpha=alpha)\n",
        "    lasso.fit(x_train_val, y_train_val)\n",
        "    y_pred = lasso.predict(x_test_val)\n",
        "    mse = mean_squared_error(y_val, y_pred)\n",
        "    losses.append(mse)\n",
        "\n"
      ],
      "metadata": {
        "colab": {
          "base_uri": "https://localhost:8080/",
          "height": 313
        },
        "id": "NdBuRxucQdLw",
        "outputId": "682a0bfc-24b2-4680-b442-8bbe0a75d960"
      },
      "execution_count": 20,
      "outputs": [
        {
          "output_type": "display_data",
          "data": {
            "text/plain": [
              "<Figure size 432x288 with 1 Axes>"
            ],
            "image/png": "[encoded data removed]"
          },
          "metadata": {
            "needs_background": "light"
          }
        },
        {
          "output_type": "stream",
          "name": "stdout",
          "text": [
            "Best value of alpha: 0.1\n"
          ]
        }
      ]
    },
    {
      "cell_type": "code",
      "source": [
        "plt.plot(alphas, losses)\n",
        "plt.title(\"Lasso alpha value selection\")\n",
        "plt.xlabel(\"alpha\")\n",
        "plt.ylabel(\"Mean squared error\")\n",
        "plt.show()\n",
        "\n",
        "best_alpha = alphas[np.argmin(losses)]\n",
        "print(\"Best value of alpha:\", best_alpha)"
      ],
      "metadata": {
        "id": "iRkMQVruTru0"
      },
      "execution_count": null,
      "outputs": []
    },
    {
      "cell_type": "code",
      "source": [
        "\n",
        "#Now polynomial Regression with Regularization\n",
        "\n",
        "\n",
        "lasso_regression = Lasso(alpha=0.1)\n",
        "\n",
        "polynomial_features = PolynomialFeatures(degree=4)\n",
        "pipeline = Pipeline([(\"polynomial_features\", polynomial_features),\n",
        "                         (\"lasso_regression\", lasso_regression)])\n",
        "pipeline.fit(x_train_f_s, y_train)\n",
        "y_pred_regularized = pipeline.predict(x_test_f_s)\n",
        "\n",
        "\n",
        "print(f\"Model intercept : {regressor.intercept_}\")\n",
        "print(f\"Model coefficients : {regressor.coef_}\")\n"
      ],
      "metadata": {
        "colab": {
          "base_uri": "https://localhost:8080/"
        },
        "id": "dqKP9QDhMmB1",
        "outputId": "0b0777f4-e6a3-4ffb-d839-c01160dba2f2"
      },
      "execution_count": 27,
      "outputs": [
        {
          "output_type": "stream",
          "name": "stdout",
          "text": [
            "Model intercept : 360.4140366258471\n",
            "Model coefficients : [  185.81588972   422.7572628  -7162.2974985   3783.17138352\n",
            " -1353.53078329 60056.79431897  3267.87629476]\n"
          ]
        }
      ]
    },
    {
      "cell_type": "code",
      "source": [
        "print('Mean Absolute Error:', metrics.mean_absolute_error(y_test, y_pred_regularized))\n",
        "print('Mean Squared Error:', metrics.mean_squared_error(y_test, y_pred_regularized))\n",
        "print('Root Mean Squared Error:', np.sqrt(metrics.mean_squared_error(y_test, y_pred_regularized)))\n",
        "print('R2:', metrics.r2_score(y_test, y_pred_regularized))\n",
        "eval3 = pd.DataFrame({'Actual': y_test, 'Predicted': y_pred_regularized})\n",
        "display(eval3)"
      ],
      "metadata": {
        "colab": {
          "base_uri": "https://localhost:8080/",
          "height": 513
        },
        "id": "Xyb2EczkTgxU",
        "outputId": "1ffd5042-9cbb-4154-d928-df9edbc82487"
      },
      "execution_count": 28,
      "outputs": [
        {
          "output_type": "stream",
          "name": "stdout",
          "text": [
            "MSE on testset: 3776605.710180983\n",
            "Mean Absolute Error: 1054.7931652451334\n",
            "Mean Squared Error: 3776605.710180983\n",
            "Root Mean Squared Error: 1943.349096323402\n",
            "R2: 0.8940960661186059\n"
          ]
        },
        {
          "output_type": "display_data",
          "data": {
            "text/plain": [
              "        Actual    Predicted\n",
              "0        718.0   871.463791\n",
              "1        670.9   906.595016\n",
              "2        789.8   858.108453\n",
              "3        723.2  1008.229788\n",
              "4        693.6   911.143433\n",
              "...        ...          ...\n",
              "228140  5337.0  5317.683459\n",
              "228141  5337.0  5317.683459\n",
              "228142  5337.0  5317.683459\n",
              "228143  5337.0  5317.683459\n",
              "228144  5337.0  5317.683459\n",
              "\n",
              "[228145 rows x 2 columns]"
            ],
            "text/html": [
              "\n",
              "  <div id=\"df-2fcb922e-bfc4-4742-8f17-f9770dfd9a5e\">\n",
              "    <div class=\"colab-df-container\">\n",
              "      <div>\n",
              "<style scoped>\n",
              "    .dataframe tbody tr th:only-of-type {\n",
              "        vertical-align: middle;\n",
              "    }\n",
              "\n",
              "    .dataframe tbody tr th {\n",
              "        vertical-align: top;\n",
              "    }\n",
              "\n",
              "    .dataframe thead th {\n",
              "        text-align: right;\n",
              "    }\n",
              "</style>\n",
              "<table border=\"1\" class=\"dataframe\">\n",
              "  <thead>\n",
              "    <tr style=\"text-align: right;\">\n",
              "      <th></th>\n",
              "      <th>Actual</th>\n",
              "      <th>Predicted</th>\n",
              "    </tr>\n",
              "  </thead>\n",
              "  <tbody>\n",
              "    <tr>\n",
              "      <th>0</th>\n",
              "      <td>718.0</td>\n",
              "      <td>871.463791</td>\n",
              "    </tr>\n",
              "    <tr>\n",
              "      <th>1</th>\n",
              "      <td>670.9</td>\n",
              "      <td>906.595016</td>\n",
              "    </tr>\n",
              "    <tr>\n",
              "      <th>2</th>\n",
              "      <td>789.8</td>\n",
              "      <td>858.108453</td>\n",
              "    </tr>\n",
              "    <tr>\n",
              "      <th>3</th>\n",
              "      <td>723.2</td>\n",
              "      <td>1008.229788</td>\n",
              "    </tr>\n",
              "    <tr>\n",
              "      <th>4</th>\n",
              "      <td>693.6</td>\n",
              "      <td>911.143433</td>\n",
              "    </tr>\n",
              "    <tr>\n",
              "      <th>...</th>\n",
              "      <td>...</td>\n",
              "      <td>...</td>\n",
              "    </tr>\n",
              "    <tr>\n",
              "      <th>228140</th>\n",
              "      <td>5337.0</td>\n",
              "      <td>5317.683459</td>\n",
              "    </tr>\n",
              "    <tr>\n",
              "      <th>228141</th>\n",
              "      <td>5337.0</td>\n",
              "      <td>5317.683459</td>\n",
              "    </tr>\n",
              "    <tr>\n",
              "      <th>228142</th>\n",
              "      <td>5337.0</td>\n",
              "      <td>5317.683459</td>\n",
              "    </tr>\n",
              "    <tr>\n",
              "      <th>228143</th>\n",
              "      <td>5337.0</td>\n",
              "      <td>5317.683459</td>\n",
              "    </tr>\n",
              "    <tr>\n",
              "      <th>228144</th>\n",
              "      <td>5337.0</td>\n",
              "      <td>5317.683459</td>\n",
              "    </tr>\n",
              "  </tbody>\n",
              "</table>\n",
              "<p>228145 rows × 2 columns</p>\n",
              "</div>\n",
              "      <button class=\"colab-df-convert\" onclick=\"convertToInteractive('df-2fcb922e-bfc4-4742-8f17-f9770dfd9a5e')\"\n",
              "              title=\"Convert this dataframe to an interactive table.\"\n",
              "              style=\"display:none;\">\n",
              "        \n",
              "  <svg xmlns=\"http://www.w3.org/2000/svg\" height=\"24px\"viewBox=\"0 0 24 24\"\n",
              "       width=\"24px\">\n",
              "    <path d=\"M0 0h24v24H0V0z\" fill=\"none\"/>\n",
              "    <path d=\"M18.56 5.44l.94 2.06.94-2.06 2.06-.94-2.06-.94-.94-2.06-.94 2.06-2.06.94zm-11 1L8.5 8.5l.94-2.06 2.06-.94-2.06-.94L8.5 2.5l-.94 2.06-2.06.94zm10 10l.94 2.06.94-2.06 2.06-.94-2.06-.94-.94-2.06-.94 2.06-2.06.94z\"/><path d=\"M17.41 7.96l-1.37-1.37c-.4-.4-.92-.59-1.43-.59-.52 0-1.04.2-1.43.59L10.3 9.45l-7.72 7.72c-.78.78-.78 2.05 0 2.83L4 21.41c.39.39.9.59 1.41.59.51 0 1.02-.2 1.41-.59l7.78-7.78 2.81-2.81c.8-.78.8-2.07 0-2.86zM5.41 20L4 18.59l7.72-7.72 1.47 1.35L5.41 20z\"/>\n",
              "  </svg>\n",
              "      </button>\n",
              "      \n",
              "  <style>\n",
              "    .colab-df-container {\n",
              "      display:flex;\n",
              "      flex-wrap:wrap;\n",
              "      gap: 12px;\n",
              "    }\n",
              "\n",
              "    .colab-df-convert {\n",
              "      background-color: #E8F0FE;\n",
              "      border: none;\n",
              "      border-radius: 50%;\n",
              "      cursor: pointer;\n",
              "      display: none;\n",
              "      fill: #1967D2;\n",
              "      height: 32px;\n",
              "      padding: 0 0 0 0;\n",
              "      width: 32px;\n",
              "    }\n",
              "\n",
              "    .colab-df-convert:hover {\n",
              "      background-color: #E2EBFA;\n",
              "      box-shadow: 0px 1px 2px rgba(60, 64, 67, 0.3), 0px 1px 3px 1px rgba(60, 64, 67, 0.15);\n",
              "      fill: #174EA6;\n",
              "    }\n",
              "\n",
              "    [theme=dark] .colab-df-convert {\n",
              "      background-color: #3B4455;\n",
              "      fill: #D2E3FC;\n",
              "    }\n",
              "\n",
              "    [theme=dark] .colab-df-convert:hover {\n",
              "      background-color: #434B5C;\n",
              "      box-shadow: 0px 1px 3px 1px rgba(0, 0, 0, 0.15);\n",
              "      filter: drop-shadow(0px 1px 2px rgba(0, 0, 0, 0.3));\n",
              "      fill: #FFFFFF;\n",
              "    }\n",
              "  </style>\n",
              "\n",
              "      <script>\n",
              "        const buttonEl =\n",
              "          document.querySelector('#df-2fcb922e-bfc4-4742-8f17-f9770dfd9a5e button.colab-df-convert');\n",
              "        buttonEl.style.display =\n",
              "          google.colab.kernel.accessAllowed ? 'block' : 'none';\n",
              "\n",
              "        async function convertToInteractive(key) {\n",
              "          const element = document.querySelector('#df-2fcb922e-bfc4-4742-8f17-f9770dfd9a5e');\n",
              "          const dataTable =\n",
              "            await google.colab.kernel.invokeFunction('convertToInteractive',\n",
              "                                                     [key], {});\n",
              "          if (!dataTable) return;\n",
              "\n",
              "          const docLinkHtml = 'Like what you see? Visit the ' +\n",
              "            '<a target=\"_blank\" href=https://colab.research.google.com/notebooks/data_table.ipynb>data table notebook</a>'\n",
              "            + ' to learn more about interactive tables.';\n",
              "          element.innerHTML = '';\n",
              "          dataTable['output_type'] = 'display_data';\n",
              "          await google.colab.output.renderOutput(dataTable, element);\n",
              "          const docLink = document.createElement('div');\n",
              "          docLink.innerHTML = docLinkHtml;\n",
              "          element.appendChild(docLink);\n",
              "        }\n",
              "      </script>\n",
              "    </div>\n",
              "  </div>\n",
              "  "
            ]
          },
          "metadata": {}
        }
      ]
    },
    {
      "cell_type": "code",
      "source": [
        "data = np.stack([x_train_f_s,y], axis = 1)\n"
      ],
      "metadata": {
        "id": "_tOiu6PyeFYS"
      },
      "execution_count": null,
      "outputs": []
    }
  ]
}