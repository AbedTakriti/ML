{
  "nbformat": 4,
  "nbformat_minor": 0,
  "metadata": {
    "colab": {
      "provenance": [],
      "collapsed_sections": []
    },
    "kernelspec": {
      "name": "python3",
      "display_name": "Python 3"
    },
    "language_info": {
      "name": "python"
    }
  },
  "cells": [
    {
      "cell_type": "code",
      "execution_count": 31,
      "metadata": {
        "id": "BXH8FoFj7-Wh"
      },
      "outputs": [],
      "source": [
        "import pandas as pd\n",
        "import pandas_profiling as pf\n",
        "import numpy as np\n",
        "import sklearn\n",
        "from sklearn.model_selection import cross_val_score\n",
        "path_train='./train_data.csv'\n",
        "path_test='./test_data.csv'\n",
        "\n",
        "train_df=pd.read_csv(path_train, low_memory=False)\n",
        "test_df=pd.read_csv(path_test, low_memory=False)"
      ]
    },
    {
      "cell_type": "code",
      "source": [
        "#Splitting X and Y data\n",
        "x_train=train_df.drop(['stream_quality'],axis=1)\n",
        "y_train=train_df['stream_quality']\n",
        "\n",
        "x_test=test_df.drop(['stream_quality'],axis=1)\n",
        "y_test=test_df['stream_quality']\n",
        "\n",
        "x_train.dtypes\n",
        "\n",
        "\n",
        "pf.ProfileReport(x_train)"
      ],
      "metadata": {
        "colab": {
          "base_uri": "https://localhost:8080/"
        },
        "id": "11WePiFv4BI-",
        "outputId": "043e9824-0f8a-4b46-a852-970bea2a1f76"
      },
      "execution_count": 3,
      "outputs": [
        {
          "output_type": "execute_result",
          "data": {
            "text/plain": [
              "fps_mean               float64\n",
              "fps_std                float64\n",
              "fps_lags                 int64\n",
              "rtt_mean               float64\n",
              "rtt_std                float64\n",
              "dropped_frames_mean    float64\n",
              "dropped_frames_std     float64\n",
              "dropped_frames_max     float64\n",
              "auto_bitrate_state      object\n",
              "auto_fec_state          object\n",
              "auto_fec_mean          float64\n",
              "dtype: object"
            ]
          },
          "metadata": {},
          "execution_count": 3
        }
      ]
    },
    {
      "cell_type": "code",
      "source": [
        "from sklearn.preprocessing import LabelEncoder\n",
        "\n",
        "\n",
        "label_encoder=LabelEncoder()\n",
        "\n",
        "x_train['auto_bitrate_state']=label_encoder.fit_transform(x_train['auto_bitrate_state'])\n",
        "x_train['auto_fec_state']=label_encoder.fit_transform(x_train['auto_fec_state'])\n",
        "x_test['auto_bitrate_state']=label_encoder.fit_transform(x_test['auto_bitrate_state'])\n",
        "x_test['auto_fec_state']=label_encoder.fit_transform(x_test['auto_fec_state'])\n"
      ],
      "metadata": {
        "id": "INnDpYKGHAzI"
      },
      "execution_count": 4,
      "outputs": []
    },
    {
      "cell_type": "code",
      "source": [
        "#Feature Selection\n",
        "from sklearn.ensemble import ExtraTreesClassifier\n",
        "import matplotlib.pyplot as plt#Fit the model\n",
        "model = ExtraTreesClassifier()\n",
        "model.fit(x_train,y_train)\n",
        "feat_importances  = pd.Series(model.feature_importances_, index=x_train.columns)\n",
        "feat_importances.nlargest(11).plot(kind='barh')\n",
        "plt.show()\n",
        "print(model.feature_importances_)#plot graph of feature importances\n",
        "\n"
      ],
      "metadata": {
        "colab": {
          "base_uri": "https://localhost:8080/",
          "height": 301
        },
        "id": "zyvPQwUHVKXR",
        "outputId": "041aa4f5-b73f-4fd7-dd17-a14c1d81f37c"
      },
      "execution_count": 5,
      "outputs": [
        {
          "output_type": "display_data",
          "data": {
            "text/plain": [
              "<Figure size 432x288 with 1 Axes>"
            ],
            "image/png": "[encoded data removed]"
          },
          "metadata": {
            "needs_background": "light"
          }
        },
        {
          "output_type": "stream",
          "name": "stdout",
          "text": [
            "[0.17428526 0.14017428 0.17214061 0.18902387 0.18184428 0.04498216\n",
            " 0.0372664  0.03762057 0.00517576 0.00278049 0.01470632]\n"
          ]
        }
      ]
    },
    {
      "cell_type": "code",
      "source": [
        "#Selecting most ignored features to drop them\n",
        "\n",
        "weight = model.feature_importances_\n",
        "dropped_columns = [feature for feature, w in zip(x_train.columns, weight) if (w < 0.1).any() ]\n",
        "dropped_columns\n",
        "x_train_featured = x_train.drop(dropped_columns,axis=1)\n",
        "x_test_featured = x_test.drop(dropped_columns,axis=1)\n",
        "\n",
        "display(x_train_featured)\n"
      ],
      "metadata": {
        "colab": {
          "base_uri": "https://localhost:8080/",
          "height": 424
        },
        "id": "0oToxoK-DwYw",
        "outputId": "1f7228fd-9600-46f8-d689-586f87d19078"
      },
      "execution_count": 6,
      "outputs": [
        {
          "output_type": "display_data",
          "data": {
            "text/plain": [
              "        fps_mean   fps_std  fps_lags  rtt_mean    rtt_std\n",
              "0           24.4  0.516398         0      91.1   6.723921\n",
              "1           28.6  2.065591         0      99.7  15.923777\n",
              "2           30.0  0.000000         0      98.1  11.798776\n",
              "3           30.3  0.948683         0      99.4  13.014522\n",
              "4           29.9  0.316228         0     123.2  62.476307\n",
              "...          ...       ...       ...       ...        ...\n",
              "406567      40.0  0.000000         0       0.0   0.000000\n",
              "406568      40.0  0.000000         0       0.0   0.000000\n",
              "406569      40.0  0.000000         0       0.0   0.000000\n",
              "406570      40.0  0.000000         0       0.0   0.000000\n",
              "406571      40.0  0.000000         0       0.0   0.000000\n",
              "\n",
              "[406572 rows x 5 columns]"
            ],
            "text/html": [
              "\n",
              "  <div id=\"df-c7c14d5d-811b-4a85-af48-edc3eb25ffe5\">\n",
              "    <div class=\"colab-df-container\">\n",
              "      <div>\n",
              "<style scoped>\n",
              "    .dataframe tbody tr th:only-of-type {\n",
              "        vertical-align: middle;\n",
              "    }\n",
              "\n",
              "    .dataframe tbody tr th {\n",
              "        vertical-align: top;\n",
              "    }\n",
              "\n",
              "    .dataframe thead th {\n",
              "        text-align: right;\n",
              "    }\n",
              "</style>\n",
              "<table border=\"1\" class=\"dataframe\">\n",
              "  <thead>\n",
              "    <tr style=\"text-align: right;\">\n",
              "      <th></th>\n",
              "      <th>fps_mean</th>\n",
              "      <th>fps_std</th>\n",
              "      <th>fps_lags</th>\n",
              "      <th>rtt_mean</th>\n",
              "      <th>rtt_std</th>\n",
              "    </tr>\n",
              "  </thead>\n",
              "  <tbody>\n",
              "    <tr>\n",
              "      <th>0</th>\n",
              "      <td>24.4</td>\n",
              "      <td>0.516398</td>\n",
              "      <td>0</td>\n",
              "      <td>91.1</td>\n",
              "      <td>6.723921</td>\n",
              "    </tr>\n",
              "    <tr>\n",
              "      <th>1</th>\n",
              "      <td>28.6</td>\n",
              "      <td>2.065591</td>\n",
              "      <td>0</td>\n",
              "      <td>99.7</td>\n",
              "      <td>15.923777</td>\n",
              "    </tr>\n",
              "    <tr>\n",
              "      <th>2</th>\n",
              "      <td>30.0</td>\n",
              "      <td>0.000000</td>\n",
              "      <td>0</td>\n",
              "      <td>98.1</td>\n",
              "      <td>11.798776</td>\n",
              "    </tr>\n",
              "    <tr>\n",
              "      <th>3</th>\n",
              "      <td>30.3</td>\n",
              "      <td>0.948683</td>\n",
              "      <td>0</td>\n",
              "      <td>99.4</td>\n",
              "      <td>13.014522</td>\n",
              "    </tr>\n",
              "    <tr>\n",
              "      <th>4</th>\n",
              "      <td>29.9</td>\n",
              "      <td>0.316228</td>\n",
              "      <td>0</td>\n",
              "      <td>123.2</td>\n",
              "      <td>62.476307</td>\n",
              "    </tr>\n",
              "    <tr>\n",
              "      <th>...</th>\n",
              "      <td>...</td>\n",
              "      <td>...</td>\n",
              "      <td>...</td>\n",
              "      <td>...</td>\n",
              "      <td>...</td>\n",
              "    </tr>\n",
              "    <tr>\n",
              "      <th>406567</th>\n",
              "      <td>40.0</td>\n",
              "      <td>0.000000</td>\n",
              "      <td>0</td>\n",
              "      <td>0.0</td>\n",
              "      <td>0.000000</td>\n",
              "    </tr>\n",
              "    <tr>\n",
              "      <th>406568</th>\n",
              "      <td>40.0</td>\n",
              "      <td>0.000000</td>\n",
              "      <td>0</td>\n",
              "      <td>0.0</td>\n",
              "      <td>0.000000</td>\n",
              "    </tr>\n",
              "    <tr>\n",
              "      <th>406569</th>\n",
              "      <td>40.0</td>\n",
              "      <td>0.000000</td>\n",
              "      <td>0</td>\n",
              "      <td>0.0</td>\n",
              "      <td>0.000000</td>\n",
              "    </tr>\n",
              "    <tr>\n",
              "      <th>406570</th>\n",
              "      <td>40.0</td>\n",
              "      <td>0.000000</td>\n",
              "      <td>0</td>\n",
              "      <td>0.0</td>\n",
              "      <td>0.000000</td>\n",
              "    </tr>\n",
              "    <tr>\n",
              "      <th>406571</th>\n",
              "      <td>40.0</td>\n",
              "      <td>0.000000</td>\n",
              "      <td>0</td>\n",
              "      <td>0.0</td>\n",
              "      <td>0.000000</td>\n",
              "    </tr>\n",
              "  </tbody>\n",
              "</table>\n",
              "<p>406572 rows × 5 columns</p>\n",
              "</div>\n",
              "      <button class=\"colab-df-convert\" onclick=\"convertToInteractive('df-c7c14d5d-811b-4a85-af48-edc3eb25ffe5')\"\n",
              "              title=\"Convert this dataframe to an interactive table.\"\n",
              "              style=\"display:none;\">\n",
              "        \n",
              "  <svg xmlns=\"http://www.w3.org/2000/svg\" height=\"24px\"viewBox=\"0 0 24 24\"\n",
              "       width=\"24px\">\n",
              "    <path d=\"M0 0h24v24H0V0z\" fill=\"none\"/>\n",
              "    <path d=\"M18.56 5.44l.94 2.06.94-2.06 2.06-.94-2.06-.94-.94-2.06-.94 2.06-2.06.94zm-11 1L8.5 8.5l.94-2.06 2.06-.94-2.06-.94L8.5 2.5l-.94 2.06-2.06.94zm10 10l.94 2.06.94-2.06 2.06-.94-2.06-.94-.94-2.06-.94 2.06-2.06.94z\"/><path d=\"M17.41 7.96l-1.37-1.37c-.4-.4-.92-.59-1.43-.59-.52 0-1.04.2-1.43.59L10.3 9.45l-7.72 7.72c-.78.78-.78 2.05 0 2.83L4 21.41c.39.39.9.59 1.41.59.51 0 1.02-.2 1.41-.59l7.78-7.78 2.81-2.81c.8-.78.8-2.07 0-2.86zM5.41 20L4 18.59l7.72-7.72 1.47 1.35L5.41 20z\"/>\n",
              "  </svg>\n",
              "      </button>\n",
              "      \n",
              "  <style>\n",
              "    .colab-df-container {\n",
              "      display:flex;\n",
              "      flex-wrap:wrap;\n",
              "      gap: 12px;\n",
              "    }\n",
              "\n",
              "    .colab-df-convert {\n",
              "      background-color: #E8F0FE;\n",
              "      border: none;\n",
              "      border-radius: 50%;\n",
              "      cursor: pointer;\n",
              "      display: none;\n",
              "      fill: #1967D2;\n",
              "      height: 32px;\n",
              "      padding: 0 0 0 0;\n",
              "      width: 32px;\n",
              "    }\n",
              "\n",
              "    .colab-df-convert:hover {\n",
              "      background-color: #E2EBFA;\n",
              "      box-shadow: 0px 1px 2px rgba(60, 64, 67, 0.3), 0px 1px 3px 1px rgba(60, 64, 67, 0.15);\n",
              "      fill: #174EA6;\n",
              "    }\n",
              "\n",
              "    [theme=dark] .colab-df-convert {\n",
              "      background-color: #3B4455;\n",
              "      fill: #D2E3FC;\n",
              "    }\n",
              "\n",
              "    [theme=dark] .colab-df-convert:hover {\n",
              "      background-color: #434B5C;\n",
              "      box-shadow: 0px 1px 3px 1px rgba(0, 0, 0, 0.15);\n",
              "      filter: drop-shadow(0px 1px 2px rgba(0, 0, 0, 0.3));\n",
              "      fill: #FFFFFF;\n",
              "    }\n",
              "  </style>\n",
              "\n",
              "      <script>\n",
              "        const buttonEl =\n",
              "          document.querySelector('#df-c7c14d5d-811b-4a85-af48-edc3eb25ffe5 button.colab-df-convert');\n",
              "        buttonEl.style.display =\n",
              "          google.colab.kernel.accessAllowed ? 'block' : 'none';\n",
              "\n",
              "        async function convertToInteractive(key) {\n",
              "          const element = document.querySelector('#df-c7c14d5d-811b-4a85-af48-edc3eb25ffe5');\n",
              "          const dataTable =\n",
              "            await google.colab.kernel.invokeFunction('convertToInteractive',\n",
              "                                                     [key], {});\n",
              "          if (!dataTable) return;\n",
              "\n",
              "          const docLinkHtml = 'Like what you see? Visit the ' +\n",
              "            '<a target=\"_blank\" href=https://colab.research.google.com/notebooks/data_table.ipynb>data table notebook</a>'\n",
              "            + ' to learn more about interactive tables.';\n",
              "          element.innerHTML = '';\n",
              "          dataTable['output_type'] = 'display_data';\n",
              "          await google.colab.output.renderOutput(dataTable, element);\n",
              "          const docLink = document.createElement('div');\n",
              "          docLink.innerHTML = docLinkHtml;\n",
              "          element.appendChild(docLink);\n",
              "        }\n",
              "      </script>\n",
              "    </div>\n",
              "  </div>\n",
              "  "
            ]
          },
          "metadata": {}
        }
      ]
    },
    {
      "cell_type": "code",
      "source": [
        "##Scaling Using Standard Scaler#\n",
        "from sklearn.preprocessing import StandardScaler\n",
        "\n",
        "scaler = StandardScaler().fit(x_train_featured)\n",
        "scaler.fit(x_train_featured)\n",
        "\n",
        "x_train_scaled = pd.DataFrame(scaler.transform(x_train_featured), columns=x_train_featured.columns)\n",
        "x_test_scaled = pd.DataFrame(scaler.transform(x_test_featured), columns=x_test_featured.columns)\n",
        "\n",
        "x_train_scaled.shape\n",
        "x_train_scaled.describe()"
      ],
      "metadata": {
        "colab": {
          "base_uri": "https://localhost:8080/",
          "height": 300
        },
        "id": "hNrIkCTpKNiw",
        "outputId": "124df873-6198-4a8e-c18f-19bd1f2ff825"
      },
      "execution_count": 7,
      "outputs": [
        {
          "output_type": "execute_result",
          "data": {
            "text/plain": [
              "           fps_mean       fps_std      fps_lags      rtt_mean       rtt_std\n",
              "count  4.065720e+05  4.065720e+05  4.065720e+05  4.065720e+05  4.065720e+05\n",
              "mean   5.407907e-16  1.554703e-16 -5.676345e-17 -3.075852e-17  1.426077e-17\n",
              "std    1.000001e+00  1.000001e+00  1.000001e+00  1.000001e+00  1.000001e+00\n",
              "min   -2.967410e+00 -6.162789e-01 -1.665943e-01 -4.057192e-01 -1.248689e-01\n",
              "25%   -5.331015e-01 -5.310085e-01 -1.665943e-01 -3.003946e-01 -1.203972e-01\n",
              "50%   -3.868710e-01 -3.481323e-01 -1.665943e-01 -1.644438e-01 -1.153353e-01\n",
              "75%    7.313624e-01  8.226846e-02 -1.665943e-01  2.080795e-02 -9.075382e-02\n",
              "max    7.965472e+00  8.366002e+01  8.929422e+00  9.594311e+01  2.603053e+02"
            ],
            "text/html": [
              "\n",
              "  <div id=\"df-50a96faf-abe1-4f2e-99d9-6b7daabb75b5\">\n",
              "    <div class=\"colab-df-container\">\n",
              "      <div>\n",
              "<style scoped>\n",
              "    .dataframe tbody tr th:only-of-type {\n",
              "        vertical-align: middle;\n",
              "    }\n",
              "\n",
              "    .dataframe tbody tr th {\n",
              "        vertical-align: top;\n",
              "    }\n",
              "\n",
              "    .dataframe thead th {\n",
              "        text-align: right;\n",
              "    }\n",
              "</style>\n",
              "<table border=\"1\" class=\"dataframe\">\n",
              "  <thead>\n",
              "    <tr style=\"text-align: right;\">\n",
              "      <th></th>\n",
              "      <th>fps_mean</th>\n",
              "      <th>fps_std</th>\n",
              "      <th>fps_lags</th>\n",
              "      <th>rtt_mean</th>\n",
              "      <th>rtt_std</th>\n",
              "    </tr>\n",
              "  </thead>\n",
              "  <tbody>\n",
              "    <tr>\n",
              "      <th>count</th>\n",
              "      <td>4.065720e+05</td>\n",
              "      <td>4.065720e+05</td>\n",
              "      <td>4.065720e+05</td>\n",
              "      <td>4.065720e+05</td>\n",
              "      <td>4.065720e+05</td>\n",
              "    </tr>\n",
              "    <tr>\n",
              "      <th>mean</th>\n",
              "      <td>5.407907e-16</td>\n",
              "      <td>1.554703e-16</td>\n",
              "      <td>-5.676345e-17</td>\n",
              "      <td>-3.075852e-17</td>\n",
              "      <td>1.426077e-17</td>\n",
              "    </tr>\n",
              "    <tr>\n",
              "      <th>std</th>\n",
              "      <td>1.000001e+00</td>\n",
              "      <td>1.000001e+00</td>\n",
              "      <td>1.000001e+00</td>\n",
              "      <td>1.000001e+00</td>\n",
              "      <td>1.000001e+00</td>\n",
              "    </tr>\n",
              "    <tr>\n",
              "      <th>min</th>\n",
              "      <td>-2.967410e+00</td>\n",
              "      <td>-6.162789e-01</td>\n",
              "      <td>-1.665943e-01</td>\n",
              "      <td>-4.057192e-01</td>\n",
              "      <td>-1.248689e-01</td>\n",
              "    </tr>\n",
              "    <tr>\n",
              "      <th>25%</th>\n",
              "      <td>-5.331015e-01</td>\n",
              "      <td>-5.310085e-01</td>\n",
              "      <td>-1.665943e-01</td>\n",
              "      <td>-3.003946e-01</td>\n",
              "      <td>-1.203972e-01</td>\n",
              "    </tr>\n",
              "    <tr>\n",
              "      <th>50%</th>\n",
              "      <td>-3.868710e-01</td>\n",
              "      <td>-3.481323e-01</td>\n",
              "      <td>-1.665943e-01</td>\n",
              "      <td>-1.644438e-01</td>\n",
              "      <td>-1.153353e-01</td>\n",
              "    </tr>\n",
              "    <tr>\n",
              "      <th>75%</th>\n",
              "      <td>7.313624e-01</td>\n",
              "      <td>8.226846e-02</td>\n",
              "      <td>-1.665943e-01</td>\n",
              "      <td>2.080795e-02</td>\n",
              "      <td>-9.075382e-02</td>\n",
              "    </tr>\n",
              "    <tr>\n",
              "      <th>max</th>\n",
              "      <td>7.965472e+00</td>\n",
              "      <td>8.366002e+01</td>\n",
              "      <td>8.929422e+00</td>\n",
              "      <td>9.594311e+01</td>\n",
              "      <td>2.603053e+02</td>\n",
              "    </tr>\n",
              "  </tbody>\n",
              "</table>\n",
              "</div>\n",
              "      <button class=\"colab-df-convert\" onclick=\"convertToInteractive('df-50a96faf-abe1-4f2e-99d9-6b7daabb75b5')\"\n",
              "              title=\"Convert this dataframe to an interactive table.\"\n",
              "              style=\"display:none;\">\n",
              "        \n",
              "  <svg xmlns=\"http://www.w3.org/2000/svg\" height=\"24px\"viewBox=\"0 0 24 24\"\n",
              "       width=\"24px\">\n",
              "    <path d=\"M0 0h24v24H0V0z\" fill=\"none\"/>\n",
              "    <path d=\"M18.56 5.44l.94 2.06.94-2.06 2.06-.94-2.06-.94-.94-2.06-.94 2.06-2.06.94zm-11 1L8.5 8.5l.94-2.06 2.06-.94-2.06-.94L8.5 2.5l-.94 2.06-2.06.94zm10 10l.94 2.06.94-2.06 2.06-.94-2.06-.94-.94-2.06-.94 2.06-2.06.94z\"/><path d=\"M17.41 7.96l-1.37-1.37c-.4-.4-.92-.59-1.43-.59-.52 0-1.04.2-1.43.59L10.3 9.45l-7.72 7.72c-.78.78-.78 2.05 0 2.83L4 21.41c.39.39.9.59 1.41.59.51 0 1.02-.2 1.41-.59l7.78-7.78 2.81-2.81c.8-.78.8-2.07 0-2.86zM5.41 20L4 18.59l7.72-7.72 1.47 1.35L5.41 20z\"/>\n",
              "  </svg>\n",
              "      </button>\n",
              "      \n",
              "  <style>\n",
              "    .colab-df-container {\n",
              "      display:flex;\n",
              "      flex-wrap:wrap;\n",
              "      gap: 12px;\n",
              "    }\n",
              "\n",
              "    .colab-df-convert {\n",
              "      background-color: #E8F0FE;\n",
              "      border: none;\n",
              "      border-radius: 50%;\n",
              "      cursor: pointer;\n",
              "      display: none;\n",
              "      fill: #1967D2;\n",
              "      height: 32px;\n",
              "      padding: 0 0 0 0;\n",
              "      width: 32px;\n",
              "    }\n",
              "\n",
              "    .colab-df-convert:hover {\n",
              "      background-color: #E2EBFA;\n",
              "      box-shadow: 0px 1px 2px rgba(60, 64, 67, 0.3), 0px 1px 3px 1px rgba(60, 64, 67, 0.15);\n",
              "      fill: #174EA6;\n",
              "    }\n",
              "\n",
              "    [theme=dark] .colab-df-convert {\n",
              "      background-color: #3B4455;\n",
              "      fill: #D2E3FC;\n",
              "    }\n",
              "\n",
              "    [theme=dark] .colab-df-convert:hover {\n",
              "      background-color: #434B5C;\n",
              "      box-shadow: 0px 1px 3px 1px rgba(0, 0, 0, 0.15);\n",
              "      filter: drop-shadow(0px 1px 2px rgba(0, 0, 0, 0.3));\n",
              "      fill: #FFFFFF;\n",
              "    }\n",
              "  </style>\n",
              "\n",
              "      <script>\n",
              "        const buttonEl =\n",
              "          document.querySelector('#df-50a96faf-abe1-4f2e-99d9-6b7daabb75b5 button.colab-df-convert');\n",
              "        buttonEl.style.display =\n",
              "          google.colab.kernel.accessAllowed ? 'block' : 'none';\n",
              "\n",
              "        async function convertToInteractive(key) {\n",
              "          const element = document.querySelector('#df-50a96faf-abe1-4f2e-99d9-6b7daabb75b5');\n",
              "          const dataTable =\n",
              "            await google.colab.kernel.invokeFunction('convertToInteractive',\n",
              "                                                     [key], {});\n",
              "          if (!dataTable) return;\n",
              "\n",
              "          const docLinkHtml = 'Like what you see? Visit the ' +\n",
              "            '<a target=\"_blank\" href=https://colab.research.google.com/notebooks/data_table.ipynb>data table notebook</a>'\n",
              "            + ' to learn more about interactive tables.';\n",
              "          element.innerHTML = '';\n",
              "          dataTable['output_type'] = 'display_data';\n",
              "          await google.colab.output.renderOutput(dataTable, element);\n",
              "          const docLink = document.createElement('div');\n",
              "          docLink.innerHTML = docLinkHtml;\n",
              "          element.appendChild(docLink);\n",
              "        }\n",
              "      </script>\n",
              "    </div>\n",
              "  </div>\n",
              "  "
            ]
          },
          "metadata": {},
          "execution_count": 7
        }
      ]
    },
    {
      "cell_type": "code",
      "source": [
        "#Profiling\n",
        "report=pf.ProfileReport(x_train_scaled)\n",
        "report"
      ],
      "metadata": {
        "id": "UODlqcZDUbO3"
      },
      "execution_count": null,
      "outputs": []
    },
    {
      "cell_type": "code",
      "source": [
        "#Detecting and removing Outliers with Zscore since we have already normalizingly disturbuted scaled our data\n",
        "print(x_train_scaled.shape)\n",
        "data_abs = np.abs(x_train_scaled)#get the absoulte value od scaled data\n",
        "filter = (data_abs < 3).all(axis=1)\n",
        "\n",
        "x_train=x_train_scaled[filter]\n",
        "y_train=y_train[filter]\n",
        "print(x_train.shape)\n",
        "print(y_train.shape)\n"
      ],
      "metadata": {
        "colab": {
          "base_uri": "https://localhost:8080/"
        },
        "id": "ZwdwzRfxgH33",
        "outputId": "5e82c0a5-0560-43ac-e4f0-55f940b1a0fa"
      },
      "execution_count": 8,
      "outputs": [
        {
          "output_type": "stream",
          "name": "stdout",
          "text": [
            "(406572, 5)\n",
            "(389424, 5)\n",
            "(389424,)\n"
          ]
        }
      ]
    },
    {
      "cell_type": "code",
      "source": [
        "#Balancing data\n",
        "print(y_train.value_counts())\n",
        "y_train.value_counts().plot.pie(autopct='%.2f')\n"
      ],
      "metadata": {
        "colab": {
          "base_uri": "https://localhost:8080/",
          "height": 319
        },
        "id": "b65Ccw0jznEO",
        "outputId": "1f46d97a-b396-42f9-c7b6-dbcf2f1c5250"
      },
      "execution_count": 9,
      "outputs": [
        {
          "output_type": "stream",
          "name": "stdout",
          "text": [
            "0    370196\n",
            "1     19228\n",
            "Name: stream_quality, dtype: int64\n"
          ]
        },
        {
          "output_type": "execute_result",
          "data": {
            "text/plain": [
              "<matplotlib.axes._subplots.AxesSubplot at 0x7f37bb23f490>"
            ]
          },
          "metadata": {},
          "execution_count": 9
        },
        {
          "output_type": "display_data",
          "data": {
            "text/plain": [
              "<Figure size 432x288 with 1 Axes>"
            ],
            "image/png": "[encoded data removed]"
          },
          "metadata": {}
        }
      ]
    },
    {
      "cell_type": "code",
      "source": [
        "from imblearn.over_sampling import RandomOverSampler\n",
        "ros=RandomOverSampler(sampling_strategy=\"not majority\")\n",
        "x_balanced, y_balanced = ros.fit_resample(x_train,y_train)\n",
        "\n",
        "ax=y_balanced.value_counts().plot.pie(autopct='%.2f')\n",
        "\n",
        "_=ax.set_title(\"over_sampling\")\n",
        "print(y_balanced.value_counts())\n",
        "\n"
      ],
      "metadata": {
        "colab": {
          "base_uri": "https://localhost:8080/",
          "height": 318
        },
        "id": "imWs2A8P2wiB",
        "outputId": "f5da7c76-53bb-4df6-a907-c73145597f57"
      },
      "execution_count": 10,
      "outputs": [
        {
          "output_type": "stream",
          "name": "stdout",
          "text": [
            "0    370196\n",
            "1    370196\n",
            "Name: stream_quality, dtype: int64\n"
          ]
        },
        {
          "output_type": "display_data",
          "data": {
            "text/plain": [
              "<Figure size 432x288 with 1 Axes>"
            ],
            "image/png": "[encoded data removed]"
          },
          "metadata": {}
        }
      ]
    },
    {
      "cell_type": "code",
      "source": [
        "#Classification\n",
        "from sklearn.linear_model import LogisticRegression\n",
        "from sklearn import metrics\n",
        "from sklearn.metrics import f1_score\n",
        "from sklearn.pipeline import Pipeline\n",
        "from sklearn.linear_model import Lasso\n",
        "\n",
        "###Testing Unbalanced Data####\n",
        "\n",
        "clf = LogisticRegression(penalty='l1',random_state=0, solver='liblinear').fit(x_train, y_train)##activating Lasso Regularization, \n",
        "y_test_pred = clf.predict(x_test_scaled)\n",
        "\n",
        "\n",
        "# calculate metrics\n",
        "print('Testing accuracy = {}'.format(metrics.accuracy_score(y_test, y_test_pred)))\n",
        "print('Testing precision = {}'.format(metrics.precision_score(y_test, y_test_pred)))\n",
        "print('Testing recall = {}'.format(metrics.recall_score(y_test, y_test_pred)))\n",
        "print('Testing F1 = {}'.format(f1_score(y_test, y_test_pred,)))\n",
        "print('Testing Weighted F1 = {}'.format(f1_score(y_test, y_test_pred,average='weighted')))\n"
      ],
      "metadata": {
        "colab": {
          "base_uri": "https://localhost:8080/"
        },
        "id": "GLdGDtTh6Acg",
        "outputId": "7c054b36-d465-4b80-aac6-0af765184ff7"
      },
      "execution_count": 23,
      "outputs": [
        {
          "output_type": "stream",
          "name": "stdout",
          "text": [
            "Testing accuracy = 0.9375400252877716\n",
            "Testing precision = 0.5427754956242186\n",
            "Testing recall = 0.19364088186568115\n",
            "Testing F1 = 0.28544592119475887\n",
            "Testing Weighted F1 = 0.9234105895499422\n"
          ]
        }
      ]
    },
    {
      "cell_type": "code",
      "source": [
        "pd.DataFrame(y_test_pred).value_counts().plot.pie(autopct='%.2f')\n"
      ],
      "metadata": {
        "colab": {
          "base_uri": "https://localhost:8080/",
          "height": 266
        },
        "id": "0oiDNADOcNg_",
        "outputId": "7cba8159-289b-4952-b7d1-d604d05a412e"
      },
      "execution_count": 21,
      "outputs": [
        {
          "output_type": "execute_result",
          "data": {
            "text/plain": [
              "<matplotlib.axes._subplots.AxesSubplot at 0x7f37bb7d53d0>"
            ]
          },
          "metadata": {},
          "execution_count": 21
        },
        {
          "output_type": "display_data",
          "data": {
            "text/plain": [
              "<Figure size 432x288 with 1 Axes>"
            ],
            "image/png": "[encoded data removed]"
          },
          "metadata": {}
        }
      ]
    },
    {
      "cell_type": "code",
      "source": [
        "y_test.value_counts().plot.pie(autopct='%.2f')"
      ],
      "metadata": {
        "colab": {
          "base_uri": "https://localhost:8080/",
          "height": 266
        },
        "id": "27iI10GdXe_h",
        "outputId": "329d199b-653e-41fe-b13b-74bfffff49fe"
      },
      "execution_count": 12,
      "outputs": [
        {
          "output_type": "execute_result",
          "data": {
            "text/plain": [
              "<matplotlib.axes._subplots.AxesSubplot at 0x7f37b8582890>"
            ]
          },
          "metadata": {},
          "execution_count": 12
        },
        {
          "output_type": "display_data",
          "data": {
            "text/plain": [
              "<Figure size 432x288 with 1 Axes>"
            ],
            "image/png": "[encoded data removed]"
          },
          "metadata": {}
        }
      ]
    },
    {
      "cell_type": "code",
      "source": [
        "###Testing balanced Data####\n",
        "clf = LogisticRegression(penalty='l1',random_state=0, solver='liblinear').fit(x_balanced, y_balanced)\n",
        "y_pred = clf.predict(x_test_scaled)\n",
        "\n",
        "\n",
        "# calculate metrics\n",
        "print('Testing accuracy = {}'.format(metrics.accuracy_score(y_test, y_pred)))\n",
        "print('Testing precision = {}'.format(metrics.precision_score(y_test, y_pred)))\n",
        "print('Testing recall = {}'.format(metrics.recall_score(y_test, y_pred)))\n",
        "print('Testing F1 = {}'.format(f1_score(y_test, y_pred, )))\n",
        "print('Testing Weighted F1 = {}'.format(f1_score(y_test, y_pred,average='weighted')))\n",
        "\n",
        "pd.DataFrame(y_pred).value_counts().plot.pie(autopct='%.2f')\n",
        "\n",
        "\n"
      ],
      "metadata": {
        "colab": {
          "base_uri": "https://localhost:8080/",
          "height": 355
        },
        "id": "XiS66jAOXqpt",
        "outputId": "686416e4-3aa2-45c3-d993-c04d5e4a4f97"
      },
      "execution_count": 15,
      "outputs": [
        {
          "output_type": "stream",
          "name": "stdout",
          "text": [
            "Testing accuracy = 0.8146192876730324\n",
            "Testing precision = 0.1951285128926783\n",
            "Testing recall = 0.6008028545941124\n",
            "Testing F1 = 0.2945826043489128\n",
            "Testing Weighted F1 = 0.8547155050943877\n"
          ]
        },
        {
          "output_type": "execute_result",
          "data": {
            "text/plain": [
              "<matplotlib.axes._subplots.AxesSubplot at 0x7f37b83d3dd0>"
            ]
          },
          "metadata": {},
          "execution_count": 15
        },
        {
          "output_type": "display_data",
          "data": {
            "text/plain": [
              "<Figure size 432x288 with 1 Axes>"
            ],
            "image/png": "[encoded data removed]"
          },
          "metadata": {}
        }
      ]
    },
    {
      "cell_type": "code",
      "source": [
        "y_test.value_counts().plot.pie(autopct='%.2f')"
      ],
      "metadata": {
        "colab": {
          "base_uri": "https://localhost:8080/",
          "height": 266
        },
        "id": "W5Ull9AyYa0w",
        "outputId": "c47f11a1-4107-4888-ea12-08cccd8237da"
      },
      "execution_count": 14,
      "outputs": [
        {
          "output_type": "execute_result",
          "data": {
            "text/plain": [
              "<matplotlib.axes._subplots.AxesSubplot at 0x7f37b84e2b10>"
            ]
          },
          "metadata": {},
          "execution_count": 14
        },
        {
          "output_type": "display_data",
          "data": {
            "text/plain": [
              "<Figure size 432x288 with 1 Axes>"
            ],
            "image/png": "[encoded data removed]"
          },
          "metadata": {}
        }
      ]
    },
    {
      "cell_type": "code",
      "source": [
        "# Logistic Regression Coefficients for balanced data\n",
        "print(\"----Logistic Regression Coefficients----\")\n",
        "print(*[a for a in zip(list(x_balanced.columns), clf.coef_[0])], sep='\\n')"
      ],
      "metadata": {
        "colab": {
          "base_uri": "https://localhost:8080/"
        },
        "id": "Xa2B7b3ebGYm",
        "outputId": "0fb78c25-1641-4140-c9ca-b3752c226cf1"
      },
      "execution_count": 24,
      "outputs": [
        {
          "output_type": "stream",
          "name": "stdout",
          "text": [
            "----Logistic Regression Coefficients----\n",
            "('fps_mean', -0.20556983285577288)\n",
            "('fps_std', 0.551867629328876)\n",
            "('fps_lags', 1.091177122626557)\n",
            "('rtt_mean', 0.29282501554851814)\n",
            "('rtt_std', 0.35068750785645614)\n"
          ]
        }
      ]
    },
    {
      "cell_type": "code",
      "source": [
        "thresholds = [0.1,0.2,0.3,0.4,0.5,0.6,0.7,0.8,0.9]\n",
        "pred_proba = clf.predict_proba(x_test_scaled)\n",
        "\n",
        "results = [[],[],[]]\n",
        "for i in thresholds:\n",
        "    y_test_pred_thr = np.where(pred_proba[:, 1] > i, 1, 0)\n",
        "    results[0].append(metrics.accuracy_score(y_test, y_test_pred_thr))\n",
        "    results[1].append(metrics.precision_score(y_test, y_test_pred_thr))\n",
        "    results[2].append(metrics.recall_score(y_test, y_test_pred_thr))\n",
        "    \n",
        "plt.plot(thresholds, results[0], label = 'accuracy')   \n",
        "plt.plot(thresholds, results[1], label = 'precision')   \n",
        "plt.plot(thresholds, results[2], label = 'recall')\n",
        "plt.title('Threshold Selection')\n",
        "plt.xlabel('threshold')\n",
        "plt.ylabel('score')\n",
        "plt.legend()\n",
        "plt.grid()"
      ],
      "metadata": {
        "colab": {
          "base_uri": "https://localhost:8080/",
          "height": 295
        },
        "id": "WErJHsBqchI-",
        "outputId": "aa7b425c-0e1a-4852-85cc-85aff91c6dcb"
      },
      "execution_count": 26,
      "outputs": [
        {
          "output_type": "display_data",
          "data": {
            "text/plain": [
              "<Figure size 432x288 with 1 Axes>"
            ],
            "image/png": "[encoded data removed]"
          },
          "metadata": {
            "needs_background": "light"
          }
        }
      ]
    },
    {
      "cell_type": "code",
      "source": [
        "from sklearn.metrics import confusion_matrix\n",
        "\n",
        "print('sklearn Confusion Matrix for Test:\\n', confusion_matrix(y_test, clf.predict(x_test_scaled)), '\\n')"
      ],
      "metadata": {
        "colab": {
          "base_uri": "https://localhost:8080/"
        },
        "id": "pG59ob0ZagB_",
        "outputId": "5af08ac4-c738-4901-f3eb-d1fa094c87b4"
      },
      "execution_count": 27,
      "outputs": [
        {
          "output_type": "stream",
          "name": "stdout",
          "text": [
            "sklearn Confusion Matrix for Test:\n",
            " [[225342   2560]\n",
            " [ 12655   3039]] \n",
            "\n"
          ]
        }
      ]
    }
  ]
}